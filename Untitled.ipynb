{
 "cells": [
  {
   "cell_type": "code",
   "execution_count": 39,
   "id": "fd654e4b",
   "metadata": {},
   "outputs": [],
   "source": [
    "# import libraries\n",
    "import pandas as pd\n",
    "import numpy as np"
   ]
  },
  {
   "cell_type": "code",
   "execution_count": 40,
   "id": "fb2c7bf4",
   "metadata": {},
   "outputs": [],
   "source": [
    "# import parquet file\n",
    "df = pd.read_parquet('product_deduplication.parquet', engine='pyarrow')"
   ]
  },
  {
   "cell_type": "code",
   "execution_count": 41,
   "id": "fc0b8531",
   "metadata": {},
   "outputs": [],
   "source": [
    "#  transform data from the product_identifier column into string in order to be able to modify\n",
    "def array_to_str(arr):\n",
    "# Convert NumPy arrays to a comma-separated string.\n",
    "    if isinstance(arr, np.ndarray):  # Check if it's a NumPy array\n",
    "        return \", \".join(map(str, arr))  # Convert elements to string and join with commas\n",
    "    return str(arr)\n",
    "\n",
    "# Insert data into a dictionary\n",
    "def set_key(dictionary, key, value, duplication = False):\n",
    "    if key not in dictionary: # Check if the key is already in the dictionary\n",
    "        dictionary.update({key: value}) # Create a new key in the dictionary\n",
    "    elif isinstance(dictionary[key], list): # Check if the value is a list\n",
    "            if duplication is True: # The script is able to handle the option to allow duplicates\n",
    "                 dictionary[key].append(value) # Append the new data to the list\n",
    "            else:\n",
    "                if value not in dictionary[key]:# Append the new data to the list if the data is not already in dictionary\n",
    "                    dictionary[key].append(value)      \n",
    "    else:\n",
    "         dictionary[key] = [dictionary[key], value] # Create a list if is not one already\n",
    "\n",
    "def merge_dicts(data, accept_duplicates = False):\n",
    "    final_dict = {}\n",
    "    data = data.dropna() # Remove NaN values\n",
    "    for item in data: # Itearate through Pandas Series\n",
    "        if isinstance(item, np.ndarray) and len(item) > 0:  # Extract from NumPy array\n",
    "            item = item[0]  # Get the dictionary inside the array\n",
    "        if isinstance(item, dict):  # Ensure it's a dictionary\n",
    "            for key, value in item.items(): # Extract key, value from the dictionary\n",
    "              set_key(final_dict, key, value, accept_duplicates) # Insert the new value into dictionary \n",
    "    return final_dict\n",
    "\n",
    "def merge_lists(data):\n",
    "    final_list = []\n",
    "    data = data.dropna() # Remove NaN values\n",
    "    for item in data: # Itearate through Pandas Series\n",
    "        if isinstance(item, np.ndarray):  # Convert NumPy arrays to lists\n",
    "            final_list.extend(item.tolist()) # Insert into the list\n",
    "        elif isinstance(item, list): # Check if the item is a list\n",
    "            final_list.extend(item) # Insert into the list\n",
    "        else:\n",
    "            final_list.append(item)  # Insert into the list\n",
    "    final_list = set(final_list) # Eliminate duplicates\n",
    "    return list(final_list)"
   ]
  },
  {
   "cell_type": "code",
   "execution_count": 42,
   "id": "2bf8ee0f",
   "metadata": {},
   "outputs": [],
   "source": [
    "df['product_name'] = df['product_name'].apply(array_to_str) # Convert the 'product_name' into str \n",
    "                                                            # in order to pivot on this column\n",
    "# Create a unique line for each 'product_name'\n",
    "df_merged = df.groupby(\"product_name\").agg({\n",
    "    \"applicability\": merge_lists,\n",
    "    \"unspsc\": merge_lists, \n",
    "    \"root_domain\": merge_lists,\n",
    "    \"page_url\": merge_lists, \n",
    "    \"product_summary\": merge_lists,                       \n",
    "    \"product_title\": merge_lists,        \n",
    "    \"product_identifier\": merge_lists,\n",
    "    \"brand\": merge_lists,                                  \n",
    "    \"intended_industries\": merge_lists,\n",
    "    \"applicability\": merge_lists,\n",
    "    \"eco_friendly\": merge_lists,                            \n",
    "    \"ethical_and_sustainability_practices\": merge_lists,\n",
    "    \"production_capacity\": merge_dicts,         \n",
    "    \"price\": lambda x: merge_dicts(x, True),                                   \n",
    "    \"materials\": merge_lists,                               \n",
    "    \"ingredients\": merge_lists,                             \n",
    "    \"manufacturing_countries\": merge_lists,                 \n",
    "    \"manufacturing_year\": merge_lists,                       \n",
    "    \"manufacturing_type\": merge_lists,                      \n",
    "    \"customization\": merge_lists,                           \n",
    "    \"packaging_type\": merge_lists,                          \n",
    "    \"form\": merge_lists,                                    \n",
    "    \"size\": merge_dicts,                                  \n",
    "    \"color\": merge_dicts,                                   \n",
    "    \"purity\": merge_dicts,                                  \n",
    "    \"energy_efficiency\": merge_dicts,                       \n",
    "    \"pressure_rating\": merge_dicts,                         \n",
    "    \"power_rating\": merge_dicts,                            \n",
    "    \"quality_standards_and_certifications\": merge_lists,    \n",
    "    \"miscellaneous_features\": merge_lists,                  \n",
    "    \"description\": merge_lists  \n",
    "}).reset_index()"
   ]
  },
  {
   "cell_type": "code",
   "execution_count": 43,
   "id": "ebef1265",
   "metadata": {},
   "outputs": [],
   "source": [
    "df_merged.to_csv('final_export.csv', index=False)"
   ]
  },
  {
   "cell_type": "code",
   "execution_count": 25,
   "id": "4b2aee10",
   "metadata": {},
   "outputs": [
    {
     "data": {
      "text/plain": [
       "412     [{'amount': 9999.0, 'currency': 'USD', 'type':...\n",
       "6985    [{'amount': 3999.0, 'currency': 'USD', 'type':...\n",
       "8831    [{'amount': 3999.0, 'currency': 'USD', 'type':...\n",
       "Name: price, dtype: object"
      ]
     },
     "execution_count": 25,
     "metadata": {},
     "output_type": "execute_result"
    }
   ],
   "source": [
    "df.loc[df[\"product_name\"] == '3D Massage Chairs','price']"
   ]
  },
  {
   "cell_type": "code",
   "execution_count": 37,
   "id": "325efda9",
   "metadata": {},
   "outputs": [
    {
     "data": {
      "text/plain": [
       "84    {'amount': [9999.0, 3999.0], 'currency': ['USD...\n",
       "Name: price, dtype: object"
      ]
     },
     "execution_count": 37,
     "metadata": {},
     "output_type": "execute_result"
    }
   ],
   "source": [
    "df_merged.loc[df_merged[\"product_name\"] == '3D Massage Chairs','price']"
   ]
  }
 ],
 "metadata": {
  "kernelspec": {
   "display_name": ".venv",
   "language": "python",
   "name": ".venv"
  },
  "language_info": {
   "codemirror_mode": {
    "name": "ipython",
    "version": 3
   },
   "file_extension": ".py",
   "mimetype": "text/x-python",
   "name": "python",
   "nbconvert_exporter": "python",
   "pygments_lexer": "ipython3",
   "version": "3.11.5"
  }
 },
 "nbformat": 4,
 "nbformat_minor": 5
}
